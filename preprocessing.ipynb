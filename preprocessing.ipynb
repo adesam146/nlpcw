{
 "cells": [
  {
   "cell_type": "markdown",
   "metadata": {},
   "source": [
    "**Spliting on new line and lowercasing all the words as I don't think casing is important for this task**"
   ]
  },
  {
   "cell_type": "code",
   "execution_count": 3,
   "metadata": {},
   "outputs": [],
   "source": [
    "import re\n",
    "\n",
    "def get_tokenised_corpus(corpus):\n",
    "    \"\"\"\n",
    "    This assumes the corpus can be iterated through and\n",
    "    retains the order in which the sentences appeared in the corpus\n",
    "    \"\"\"\n",
    "    tokenized_corpus = [] # Let us put the tokenized corpus in a list\n",
    "    for sentence in corpus:\n",
    "      tokenized_sentence = []\n",
    "      for token in re.split(r'\\s', sentence.lower()): # simplest split is \n",
    "        if token:\n",
    "          # To avoid the empty string\n",
    "          tokenized_sentence.append(token)\n",
    "      tokenized_corpus.append(tokenized_sentence)"
   ]
  },
  {
   "cell_type": "markdown",
   "metadata": {},
   "source": [
    "**This was also taken from the tutorial on classification.** It might not be needed depending on how we chose to do the embeddings. I.e. if we use pre-trained embeddings or a character based model."
   ]
  },
  {
   "cell_type": "code",
   "execution_count": null,
   "metadata": {},
   "outputs": [],
   "source": [
    "def get_word2idx(tokenized_corpus):\n",
    "  vocabulary = []\n",
    "  for sentence in tokenized_corpus:\n",
    "    for token in sentence:\n",
    "        if token not in vocabulary:\n",
    "            vocabulary.append(token)\n",
    "  \n",
    "  \n",
    "  word2idx = {w: idx+1 for (idx, w) in enumerate(vocabulary)}\n",
    "  # we reserve the 0 index for the placeholder token\n",
    "  word2idx['<pad>'] = 0\n",
    " \n",
    "  return word2idx"
   ]
  }
 ],
 "metadata": {
  "kernelspec": {
   "display_name": "Python 3",
   "language": "python",
   "name": "python3"
  },
  "language_info": {
   "codemirror_mode": {
    "name": "ipython",
    "version": 3
   },
   "file_extension": ".py",
   "mimetype": "text/x-python",
   "name": "python",
   "nbconvert_exporter": "python",
   "pygments_lexer": "ipython3",
   "version": "3.6.3"
  }
 },
 "nbformat": 4,
 "nbformat_minor": 2
}
