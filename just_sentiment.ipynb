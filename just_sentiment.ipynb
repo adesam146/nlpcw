{
  "nbformat": 4,
  "nbformat_minor": 0,
  "metadata": {
    "colab": {
      "name": "just_sentiment.ipynb",
      "version": "0.3.2",
      "provenance": []
    },
    "kernelspec": {
      "display_name": "Python 3",
      "language": "python",
      "name": "python3"
    }
  },
  "cells": [
    {
      "metadata": {
        "id": "Z3s95Dj9_5u2",
        "colab_type": "code",
        "colab": {
          "base_uri": "https://localhost:8080/",
          "height": 357
        },
        "outputId": "d3bef322-bd5f-4317-d249-f887e0987b00"
      },
      "cell_type": "code",
      "source": [
        "!pip install -U pandas"
      ],
      "execution_count": 6,
      "outputs": [
        {
          "output_type": "stream",
          "text": [
            "Collecting pandas\n",
            "\u001b[?25l  Downloading https://files.pythonhosted.org/packages/e6/de/a0d3defd8f338eaf53ef716e40ef6d6c277c35d50e09b586e170169cdf0d/pandas-0.24.1-cp36-cp36m-manylinux1_x86_64.whl (10.1MB)\n",
            "\u001b[K    100% |████████████████████████████████| 10.1MB 3.2MB/s \n",
            "\u001b[?25hRequirement already satisfied, skipping upgrade: python-dateutil>=2.5.0 in /usr/local/lib/python3.6/dist-packages (from pandas) (2.5.3)\n",
            "Requirement already satisfied, skipping upgrade: pytz>=2011k in /usr/local/lib/python3.6/dist-packages (from pandas) (2018.9)\n",
            "Requirement already satisfied, skipping upgrade: numpy>=1.12.0 in /usr/local/lib/python3.6/dist-packages (from pandas) (1.14.6)\n",
            "Requirement already satisfied, skipping upgrade: six>=1.5 in /usr/local/lib/python3.6/dist-packages (from python-dateutil>=2.5.0->pandas) (1.11.0)\n",
            "\u001b[31mpymc3 3.6 has requirement joblib<0.13.0, but you'll have joblib 0.13.2 which is incompatible.\u001b[0m\n",
            "\u001b[31mfastai 1.0.46 has requirement numpy>=1.15, but you'll have numpy 1.14.6 which is incompatible.\u001b[0m\n",
            "Installing collected packages: pandas\n",
            "  Found existing installation: pandas 0.22.0\n",
            "    Uninstalling pandas-0.22.0:\n",
            "      Successfully uninstalled pandas-0.22.0\n",
            "Successfully installed pandas-0.24.1\n"
          ],
          "name": "stdout"
        },
        {
          "output_type": "display_data",
          "data": {
            "application/vnd.colab-display-data+json": {
              "pip_warning": {
                "packages": [
                  "pandas"
                ]
              }
            }
          },
          "metadata": {
            "tags": []
          }
        }
      ]
    },
    {
      "metadata": {
        "id": "awpbiNwI_sBl",
        "colab_type": "code",
        "colab": {}
      },
      "cell_type": "code",
      "source": [
        "import numpy as np\n",
        "import pandas as pd\n",
        "from textblob import TextBlob"
      ],
      "execution_count": 0,
      "outputs": []
    },
    {
      "metadata": {
        "id": "I0Qdxn-b_sBw",
        "colab_type": "code",
        "colab": {
          "base_uri": "https://localhost:8080/",
          "height": 252
        },
        "outputId": "8bd568f1-66ef-4741-9158-f84f49d18635"
      },
      "cell_type": "code",
      "source": [
        "# Change file address as necessary\n",
        "train = pd.read_csv('./offenseval-training-v1.tsv', delimiter=\"\\t\")\n",
        "print(train.shape)\n",
        "print(train.head())"
      ],
      "execution_count": 2,
      "outputs": [
        {
          "output_type": "stream",
          "text": [
            "(13240, 5)\n",
            "      id                                              tweet subtask_a  \\\n",
            "0  86426  @USER She should ask a few native Americans wh...       OFF   \n",
            "1  90194  @USER @USER Go home you’re drunk!!! @USER #MAG...       OFF   \n",
            "2  16820  Amazon is investigating Chinese employees who ...       NOT   \n",
            "3  62688  @USER Someone should'veTaken\" this piece of sh...       OFF   \n",
            "4  43605  @USER @USER Obama wanted liberals &amp; illega...       NOT   \n",
            "\n",
            "  subtask_b subtask_c  \n",
            "0       UNT       NaN  \n",
            "1       TIN       IND  \n",
            "2       NaN       NaN  \n",
            "3       UNT       NaN  \n",
            "4       NaN       NaN  \n"
          ],
          "name": "stdout"
        }
      ]
    },
    {
      "metadata": {
        "id": "dj6KOGzm_sCA",
        "colab_type": "text"
      },
      "cell_type": "markdown",
      "source": [
        "**Doing a very crude classification using just the predicted polarity of the sentences. (Ignore the warning from panda)**"
      ]
    },
    {
      "metadata": {
        "id": "3g2X8zhP_sCC",
        "colab_type": "code",
        "colab": {
          "base_uri": "https://localhost:8080/",
          "height": 185
        },
        "outputId": "b5d27176-fe04-4d7c-f324-839414436dbb"
      },
      "cell_type": "code",
      "source": [
        "corpus = train['tweet'].to_numpy()\n",
        "\n",
        "labels = train['subtask_a']\n",
        "labels[labels == 'OFF'] = 1.\n",
        "labels[labels == 'NOT'] = 0.\n",
        "predictions = []\n",
        "\n",
        "for s in corpus:\n",
        "    blob = TextBlob(s)\n",
        "    if blob.sentiment.polarity > -0.2:\n",
        "        predictions.append(0)\n",
        "    else:\n",
        "        predictions.append(1)"
      ],
      "execution_count": 10,
      "outputs": [
        {
          "output_type": "stream",
          "text": [
            "/usr/local/lib/python3.6/dist-packages/ipykernel_launcher.py:4: SettingWithCopyWarning: \n",
            "A value is trying to be set on a copy of a slice from a DataFrame\n",
            "\n",
            "See the caveats in the documentation: http://pandas.pydata.org/pandas-docs/stable/indexing.html#indexing-view-versus-copy\n",
            "  after removing the cwd from sys.path.\n",
            "/usr/local/lib/python3.6/dist-packages/ipykernel_launcher.py:5: SettingWithCopyWarning: \n",
            "A value is trying to be set on a copy of a slice from a DataFrame\n",
            "\n",
            "See the caveats in the documentation: http://pandas.pydata.org/pandas-docs/stable/indexing.html#indexing-view-versus-copy\n",
            "  \"\"\"\n"
          ],
          "name": "stderr"
        }
      ]
    },
    {
      "metadata": {
        "id": "sJcz45BX_sCY",
        "colab_type": "code",
        "colab": {
          "base_uri": "https://localhost:8080/",
          "height": 218
        },
        "outputId": "b2a20360-090d-4ae8-f0c8-05a180f707fc"
      },
      "cell_type": "code",
      "source": [
        "from sklearn import metrics\n",
        "\n",
        "targets = labels.to_numpy(dtype=np.float)\n",
        "print(metrics.confusion_matrix(targets, predictions))\n",
        "print(metrics.classification_report(targets, predictions))\n",
        "print(metrics.accuracy_score(targets, predictions))"
      ],
      "execution_count": 12,
      "outputs": [
        {
          "output_type": "stream",
          "text": [
            "[[8027  813]\n",
            " [3206 1194]]\n",
            "              precision    recall  f1-score   support\n",
            "\n",
            "         0.0       0.71      0.91      0.80      8840\n",
            "         1.0       0.59      0.27      0.37      4400\n",
            "\n",
            "   micro avg       0.70      0.70      0.70     13240\n",
            "   macro avg       0.65      0.59      0.59     13240\n",
            "weighted avg       0.67      0.70      0.66     13240\n",
            "\n",
            "0.6964501510574018\n"
          ],
          "name": "stdout"
        }
      ]
    },
    {
      "metadata": {
        "id": "x6Yi-am7AmJO",
        "colab_type": "code",
        "colab": {}
      },
      "cell_type": "code",
      "source": [
        ""
      ],
      "execution_count": 0,
      "outputs": []
    }
  ]
}